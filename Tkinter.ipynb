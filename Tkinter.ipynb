{
 "cells": [
  {
   "cell_type": "code",
   "execution_count": 1,
   "id": "7e866a19",
   "metadata": {},
   "outputs": [],
   "source": [
    "import tkinter as tk\n",
    "from tkinter import filedialog\n",
    "from PIL import Image, ImageTk\n",
    "import numpy as np\n",
    "from tensorflow.keras.models import load_model"
   ]
  },
  {
   "cell_type": "code",
   "execution_count": 2,
   "id": "590a440f",
   "metadata": {},
   "outputs": [],
   "source": [
    "# Load the pre-trained model\n",
    "model = load_model('Age_Gender_Prediction_Model2.h5')"
   ]
  },
  {
   "cell_type": "code",
   "execution_count": 3,
   "id": "53bccfcd",
   "metadata": {},
   "outputs": [],
   "source": [
    "def preprocess_image(image_path):\n",
    "    img = Image.open(image_path).convert('L')  # Convert to grayscale\n",
    "    img = img.resize((128, 128))\n",
    "    img = np.array(img) / 255.0\n",
    "    img = np.expand_dims(img, axis=-1)  # Add a single channel for grayscale\n",
    "    img = np.expand_dims(img, axis=0)   # Add a batch dimension\n",
    "    return img"
   ]
  },
  {
   "cell_type": "code",
   "execution_count": 4,
   "id": "64c2fb5f",
   "metadata": {},
   "outputs": [],
   "source": [
    "# Function to predict age and gender\n",
    "def predict_age_gender(image_path):\n",
    "    img = preprocess_image(image_path)\n",
    "    prediction = model.predict(img)\n",
    "    age_classes = ['0-15', '16-30', '31-45', '46-60', '60+']\n",
    "    gender_classes = ['Male', 'Female']\n",
    "\n",
    "    age_class = np.argmax(prediction[0])\n",
    "    gender_prob = prediction[1][0]  # Probability of being Female\n",
    "    gender_class = 1 if gender_prob < 0.5 else 0  # Adjusted threshold\n",
    "\n",
    "    age = age_classes[age_class]\n",
    "    gender = gender_classes[gender_class]\n",
    "\n",
    "    return age, gender"
   ]
  },
  {
   "cell_type": "code",
   "execution_count": 5,
   "id": "18ffcba8",
   "metadata": {},
   "outputs": [],
   "source": [
    "# Function to handle the \"Upload Image\" button\n",
    "def upload_image():\n",
    "    file_path = filedialog.askopenfilename()\n",
    "    if file_path:\n",
    "        img = Image.open(file_path)\n",
    "        img = img.resize((250, 250))\n",
    "        img = ImageTk.PhotoImage(img)\n",
    "        image_label.config(image=img)\n",
    "        image_label.image = img  # Keep a reference to avoid garbage collection\n",
    "        file_path_var.set(file_path)\n",
    "\n",
    "# Function to handle the \"Predict Age and Gender\" button\n",
    "def predict():\n",
    "    image_path = file_path_var.get()\n",
    "    if image_path:\n",
    "        age, gender = predict_age_gender(image_path)\n",
    "        result_label.config(text=f\"Predicted Age: {age}\\nPredicted Gender: {gender}\")\n",
    "    else:\n",
    "        result_label.config(text=\"Please upload an image first.\")"
   ]
  },
  {
   "cell_type": "code",
   "execution_count": 6,
   "id": "997cc4a7",
   "metadata": {},
   "outputs": [],
   "source": [
    "# Create the main window\n",
    "window = tk.Tk()\n",
    "window.title(\"Age and Gender Prediction\")\n",
    "\n",
    "# Create and place widgets\n",
    "upload_button = tk.Button(window, text=\"Upload Image\", command=upload_image)\n",
    "upload_button.pack(pady=10)\n",
    "\n",
    "image_label = tk.Label(window)\n",
    "image_label.pack(pady=10)\n",
    "\n",
    "predict_button = tk.Button(window, text=\"Predict Age and Gender\", command=predict)\n",
    "predict_button.pack(pady=10)\n",
    "\n",
    "result_label = tk.Label(window, text=\"\")\n",
    "result_label.pack(pady=10)\n",
    "\n",
    "# Variable to store the file path\n",
    "file_path_var = tk.StringVar()\n"
   ]
  },
  {
   "cell_type": "code",
   "execution_count": 7,
   "id": "1d2fe4e8",
   "metadata": {},
   "outputs": [
    {
     "name": "stdout",
     "output_type": "stream",
     "text": [
      "1/1 [==============================] - 1s 869ms/step\n",
      "1/1 [==============================] - 0s 31ms/step\n",
      "1/1 [==============================] - 0s 25ms/step\n",
      "1/1 [==============================] - 0s 30ms/step\n",
      "1/1 [==============================] - 0s 30ms/step\n",
      "1/1 [==============================] - 0s 30ms/step\n",
      "1/1 [==============================] - 0s 31ms/step\n",
      "1/1 [==============================] - 0s 21ms/step\n",
      "1/1 [==============================] - 0s 25ms/step\n",
      "1/1 [==============================] - 0s 33ms/step\n"
     ]
    }
   ],
   "source": [
    "\n",
    "# Run the GUI\n",
    "window.mainloop()\n"
   ]
  },
  {
   "cell_type": "code",
   "execution_count": null,
   "id": "447f17e7",
   "metadata": {},
   "outputs": [],
   "source": []
  }
 ],
 "metadata": {
  "kernelspec": {
   "display_name": "Python 3 (ipykernel)",
   "language": "python",
   "name": "python3"
  },
  "language_info": {
   "codemirror_mode": {
    "name": "ipython",
    "version": 3
   },
   "file_extension": ".py",
   "mimetype": "text/x-python",
   "name": "python",
   "nbconvert_exporter": "python",
   "pygments_lexer": "ipython3",
   "version": "3.9.16"
  }
 },
 "nbformat": 4,
 "nbformat_minor": 5
}
